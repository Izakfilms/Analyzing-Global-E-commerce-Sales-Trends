{
 "cells": [
  {
   "cell_type": "code",
   "execution_count": 1,
   "id": "e76d091a",
   "metadata": {},
   "outputs": [],
   "source": [
    "import pandas as pd\n",
    "import numpy as np\n",
    "from scipy import stats\n",
    "import matplotlib.pyplot as plt\n",
    "import seaborn as sns\n",
    "\n",
    "# Load dataset\n",
    "df = pd.read_csv(\"ebay_cleaned.csv\")"
   ]
  },
  {
   "cell_type": "code",
   "execution_count": 2,
   "id": "ddb49bf7",
   "metadata": {},
   "outputs": [],
   "source": [
    "# Assign random A/B groups\n",
    "df['Group'] = np.random.choice(['A', 'B'], size=len(df), replace=True)"
   ]
  },
  {
   "cell_type": "code",
   "execution_count": 3,
   "id": "9e4908cc",
   "metadata": {},
   "outputs": [],
   "source": [
    "# Function to compute conversion rate\n",
    "def conversion_rate(df, col):\n",
    "    return df.groupby('Group')[col].mean()"
   ]
  },
  {
   "cell_type": "code",
   "execution_count": 4,
   "id": "0591bd9b",
   "metadata": {},
   "outputs": [],
   "source": [
    "# Function to perform t-test\n",
    "def perform_ttest(df, col):\n",
    "    group_a = df[df['Group'] == 'A'][col]\n",
    "    group_b = df[df['Group'] == 'B'][col]\n",
    "    return stats.ttest_ind(group_a, group_b, equal_var=False)"
   ]
  },
  {
   "cell_type": "code",
   "execution_count": 5,
   "id": "c6a0e1eb",
   "metadata": {},
   "outputs": [
    {
     "name": "stdout",
     "output_type": "stream",
     "text": [
      "\n",
      "### Price Test Results ###\n",
      "Conversion Rates:\n",
      "Group\n",
      "A    451.277027\n",
      "B    426.038000\n",
      "Name: Price, dtype: float64\n",
      "\n",
      "### Shipping Cost Test Results ###\n",
      "Conversion Rates:\n",
      "Group\n",
      "A    0.0\n",
      "B    0.0\n",
      "Name: Shipping Cost, dtype: float64\n",
      "\n",
      "### Available Coupons Test Results ###\n",
      "Conversion Rates:\n",
      "Group\n",
      "A    0.0\n",
      "B    0.0\n",
      "Name: Available Coupons, dtype: float64\n",
      "\n",
      "### Seller Rating Test Results ###\n",
      "Conversion Rates:\n",
      "Group\n",
      "A    567.594595\n",
      "B    544.933333\n",
      "Name: Seller Rating, dtype: float64\n"
     ]
    }
   ],
   "source": [
    "# Run tests for different variables\n",
    "for col in ['Price', 'Shipping Cost', 'Available Coupons', 'Seller Rating']:\n",
    "    print(f\"\\n### {col} Test Results ###\")\n",
    "    print(\"Conversion Rates:\")\n",
    "    print(conversion_rate(df, col))"
   ]
  },
  {
   "cell_type": "code",
   "execution_count": 7,
   "id": "4c6e7275",
   "metadata": {},
   "outputs": [
    {
     "name": "stdout",
     "output_type": "stream",
     "text": [
      "T-statistic: 0.463, P-value: 0.644\n"
     ]
    }
   ],
   "source": [
    "t_stat, p_val = perform_ttest(df, col)\n",
    "print(f\"T-statistic: {t_stat:.3f}, P-value: {p_val:.3f}\")"
   ]
  },
  {
   "cell_type": "code",
   "execution_count": 9,
   "id": "d1f80890",
   "metadata": {},
   "outputs": [
    {
     "data": {
      "image/png": "[encoded data removed]",
      "text/plain": [
       "<Figure size 600x400 with 1 Axes>"
      ]
     },
     "metadata": {},
     "output_type": "display_data"
    }
   ],
   "source": [
    "# Plot\n",
    "plt.figure(figsize=(6,4))\n",
    "sns.boxplot(x='Group', y=col, data=df)\n",
    "plt.title(f\"A/B Test: {col}\")\n",
    "plt.show()"
   ]
  },
  {
   "cell_type": "code",
   "execution_count": null,
   "id": "e47f8aae",
   "metadata": {},
   "outputs": [],
   "source": []
  }
 ],
 "metadata": {
  "kernelspec": {
   "display_name": "Python 3 (ipykernel)",
   "language": "python",
   "name": "python3"
  },
  "language_info": {
   "codemirror_mode": {
    "name": "ipython",
    "version": 3
   },
   "file_extension": ".py",
   "mimetype": "text/x-python",
   "name": "python",
   "nbconvert_exporter": "python",
   "pygments_lexer": "ipython3",
   "version": "3.9.13"
  },
  "varInspector": {
   "cols": {
    "lenName": 16,
    "lenType": 16,
    "lenVar": 40
   },
   "kernels_config": {
    "python": {
     "delete_cmd_postfix": "",
     "delete_cmd_prefix": "del ",
     "library": "var_list.py",
     "varRefreshCmd": "print(var_dic_list())"
    },
    "r": {
     "delete_cmd_postfix": ") ",
     "delete_cmd_prefix": "rm(",
     "library": "var_list.r",
     "varRefreshCmd": "cat(var_dic_list()) "
    }
   },
   "types_to_exclude": [
    "module",
    "function",
    "builtin_function_or_method",
    "instance",
    "_Feature"
   ],
   "window_display": false
  }
 },
 "nbformat": 4,
 "nbformat_minor": 5
}
