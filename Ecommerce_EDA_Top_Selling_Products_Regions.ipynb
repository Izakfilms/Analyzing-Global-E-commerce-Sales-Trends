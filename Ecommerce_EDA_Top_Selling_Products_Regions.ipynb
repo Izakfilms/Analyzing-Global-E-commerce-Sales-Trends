{
 "cells": [
  {
   "cell_type": "code",
   "execution_count": 1,
   "id": "c9e0b810",
   "metadata": {},
   "outputs": [],
   "source": [
    "import pandas as pd\n",
    "import matplotlib.pyplot as plt\n",
    "import seaborn as sns\n",
    "\n",
    "# Load dataset\n",
    "file_path = \"ebay_cleaned.csv\"\n",
    "ebay_df = pd.read_csv(file_path)"
   ]
  },
  {
   "cell_type": "markdown",
   "id": "f42b4b64",
   "metadata": {},
   "source": [
    "# Find Best-Selling Items & Categories"
   ]
  },
  {
   "cell_type": "code",
   "execution_count": 3,
   "id": "6369388e",
   "metadata": {},
   "outputs": [
    {
     "name": "stdout",
     "output_type": "stream",
     "text": [
      "\n",
      "🔹 Top-Selling Items:\n"
     ]
    },
    {
     "data": {
      "text/html": [
       "<style type=\"text/css\">\n",
       "</style>\n",
       "<table id=\"T_2a10b\">\n",
       "  <thead>\n",
       "    <tr>\n",
       "      <th class=\"blank level0\" >&nbsp;</th>\n",
       "      <th id=\"T_2a10b_level0_col0\" class=\"col_heading level0 col0\" >Total Revenue ($)</th>\n",
       "    </tr>\n",
       "    <tr>\n",
       "      <th class=\"index_name level0\" >Item Name</th>\n",
       "      <th class=\"blank col0\" >&nbsp;</th>\n",
       "    </tr>\n",
       "  </thead>\n",
       "  <tbody>\n",
       "    <tr>\n",
       "      <th id=\"T_2a10b_level0_row0\" class=\"row_heading level0 row0\" >Apple MacBook Pro MB990LL/A 13.3 in. Notebook NEW</th>\n",
       "      <td id=\"T_2a10b_row0_col0\" class=\"data row0 col0\" >19,696.88</td>\n",
       "    </tr>\n",
       "    <tr>\n",
       "      <th id=\"T_2a10b_level0_row1\" class=\"row_heading level0 row1\" >Apple MacBook M4 Pro Notebook NEW</th>\n",
       "      <td id=\"T_2a10b_row1_col0\" class=\"data row1 col0\" >1,200.00</td>\n",
       "    </tr>\n",
       "    <tr>\n",
       "      <th id=\"T_2a10b_level0_row2\" class=\"row_heading level0 row2\" >Harry Potter and the Goblet of Fire - First Edition</th>\n",
       "      <td id=\"T_2a10b_row2_col0\" class=\"data row2 col0\" >1,099.99</td>\n",
       "    </tr>\n",
       "    <tr>\n",
       "      <th id=\"T_2a10b_level0_row3\" class=\"row_heading level0 row3\" >MacBook Air 13-inch 2024 M3 / 16GB RAM / 512GB SSD / 10-Core GPU / Space Gray</th>\n",
       "      <td id=\"T_2a10b_row3_col0\" class=\"data row3 col0\" >1,029.00</td>\n",
       "    </tr>\n",
       "    <tr>\n",
       "      <th id=\"T_2a10b_level0_row4\" class=\"row_heading level0 row4\" >2024 Apple MacBook Air 13-inch M3 Chip 16GB RAM 256GB SSD Midnight MC8K4LL/A</th>\n",
       "      <td id=\"T_2a10b_row4_col0\" class=\"data row4 col0\" >859.00</td>\n",
       "    </tr>\n",
       "    <tr>\n",
       "      <th id=\"T_2a10b_level0_row5\" class=\"row_heading level0 row5\" >Apple MacBook Pro MB990LL/A 13.3 in2131313. Notebook NEW</th>\n",
       "      <td id=\"T_2a10b_row5_col0\" class=\"data row5 col0\" >647.00</td>\n",
       "    </tr>\n",
       "    <tr>\n",
       "      <th id=\"T_2a10b_level0_row6\" class=\"row_heading level0 row6\" >Apple MacBook Pro 13.3</th>\n",
       "      <td id=\"T_2a10b_row6_col0\" class=\"data row6 col0\" >600.00</td>\n",
       "    </tr>\n",
       "    <tr>\n",
       "      <th id=\"T_2a10b_level0_row7\" class=\"row_heading level0 row7\" >Apple MacBook Pro MB990LL/A 15.3 in. Notebook NEW</th>\n",
       "      <td id=\"T_2a10b_row7_col0\" class=\"data row7 col0\" >600.00</td>\n",
       "    </tr>\n",
       "    <tr>\n",
       "      <th id=\"T_2a10b_level0_row8\" class=\"row_heading level0 row8\" >NEW Top</th>\n",
       "      <td id=\"T_2a10b_row8_col0\" class=\"data row8 col0\" >500.00</td>\n",
       "    </tr>\n",
       "    <tr>\n",
       "      <th id=\"T_2a10b_level0_row9\" class=\"row_heading level0 row9\" >Jordan Apple MacBook Pro MB990LL/A 13.3 in. Notebook NEW</th>\n",
       "      <td id=\"T_2a10b_row9_col0\" class=\"data row9 col0\" >500.00</td>\n",
       "    </tr>\n",
       "  </tbody>\n",
       "</table>\n"
      ],
      "text/plain": [
       "<pandas.io.formats.style.Styler at 0x27b0a6ed580>"
      ]
     },
     "metadata": {},
     "output_type": "display_data"
    },
    {
     "name": "stdout",
     "output_type": "stream",
     "text": [
      "\n",
      "🔹 Top-Selling Categories:\n"
     ]
    },
    {
     "data": {
      "text/html": [
       "<style type=\"text/css\">\n",
       "</style>\n",
       "<table id=\"T_ee2e2\">\n",
       "  <thead>\n",
       "    <tr>\n",
       "      <th class=\"blank level0\" >&nbsp;</th>\n",
       "      <th id=\"T_ee2e2_level0_col0\" class=\"col_heading level0 col0\" >Total Revenue ($)</th>\n",
       "    </tr>\n",
       "    <tr>\n",
       "      <th class=\"index_name level0\" >Category</th>\n",
       "      <th class=\"blank col0\" >&nbsp;</th>\n",
       "    </tr>\n",
       "  </thead>\n",
       "  <tbody>\n",
       "    <tr>\n",
       "      <th id=\"T_ee2e2_level0_row0\" class=\"row_heading level0 row0\" >Apple Laptops, Computers/Tablets & Networking, Laptops & Netbooks</th>\n",
       "      <td id=\"T_ee2e2_row0_col0\" class=\"data row0 col0\" >35,012.39</td>\n",
       "    </tr>\n",
       "    <tr>\n",
       "      <th id=\"T_ee2e2_level0_row1\" class=\"row_heading level0 row1\" >PC Laptops & Netbooks, Computers/Tablets & Networking, Laptops & Netbooks</th>\n",
       "      <td id=\"T_ee2e2_row1_col0\" class=\"data row1 col0\" >598.17</td>\n",
       "    </tr>\n",
       "    <tr>\n",
       "      <th id=\"T_ee2e2_level0_row2\" class=\"row_heading level0 row2\" >Motherboards, Computers/Tablets & Networking, Computer Components & Parts</th>\n",
       "      <td id=\"T_ee2e2_row2_col0\" class=\"data row2 col0\" >207.40</td>\n",
       "    </tr>\n",
       "    <tr>\n",
       "      <th id=\"T_ee2e2_level0_row3\" class=\"row_heading level0 row3\" >Laptop Screens & LCD Panels, Computers/Tablets & Networking, Computer Components & Parts, Laptop Replacement Parts</th>\n",
       "      <td id=\"T_ee2e2_row3_col0\" class=\"data row3 col0\" >51.00</td>\n",
       "    </tr>\n",
       "  </tbody>\n",
       "</table>\n"
      ],
      "text/plain": [
       "<pandas.io.formats.style.Styler at 0x27b0a6ed580>"
      ]
     },
     "metadata": {},
     "output_type": "display_data"
    }
   ],
   "source": [
    "# Top 10 best-selling items by total revenue\n",
    "top_items = ebay_df.groupby(\"Title\")[\"Price\"].sum().sort_values(ascending=False).head(10).to_frame()\n",
    "top_items.columns = [\"Total Revenue ($)\"]\n",
    "top_items.index.name = \"Item Name\"\n",
    "\n",
    "# Top 10 best-selling categories\n",
    "top_categories = ebay_df.groupby(\"Categories\")[\"Price\"].sum().sort_values(ascending=False).head(10).to_frame()\n",
    "top_categories.columns = [\"Total Revenue ($)\"]\n",
    "top_categories.index.name = \"Category\"\n",
    "\n",
    "# Display in a clean format\n",
    "print(\"\\n🔹 Top-Selling Items:\")\n",
    "display(top_items.style.format({\"Total Revenue ($)\": \"{:,.2f}\"}))\n",
    "\n",
    "print(\"\\n🔹 Top-Selling Categories:\")\n",
    "display(top_categories.style.format({\"Total Revenue ($)\": \"{:,.2f}\"}))\n"
   ]
  },
  {
   "cell_type": "markdown",
   "id": "56bc3abc",
   "metadata": {},
   "source": [
    "# Sales Distribution Across Regions"
   ]
  },
  {
   "cell_type": "code",
   "execution_count": 4,
   "id": "d76d5fa6",
   "metadata": {},
   "outputs": [
    {
     "data": {
      "image/png": "[encoded data removed]",
      "text/plain": [
       "<Figure size 1200x600 with 1 Axes>"
      ]
     },
     "metadata": {},
     "output_type": "display_data"
    }
   ],
   "source": [
    "# Aggregate sales by region\n",
    "region_sales = ebay_df.groupby(\"Item Location\")[\"Price\"].sum().sort_values(ascending=False)\n",
    "\n",
    "# Plot sales distribution by region\n",
    "plt.figure(figsize=(12, 6))\n",
    "sns.barplot(x=region_sales.index, y=region_sales.values, palette=\"Blues_r\")\n",
    "\n",
    "# Formatting\n",
    "plt.xlabel(\"Region\")\n",
    "plt.ylabel(\"Total Sales\")\n",
    "plt.title(\"Sales Distribution Across Regions\")\n",
    "plt.xticks(rotation=45)\n",
    "plt.show()\n"
   ]
  },
  {
   "cell_type": "markdown",
   "id": "9b15872b",
   "metadata": {},
   "source": [
    "# Revenue Contribution by Product"
   ]
  },
  {
   "cell_type": "code",
   "execution_count": 6,
   "id": "e887f9ff",
   "metadata": {},
   "outputs": [
    {
     "name": "stdout",
     "output_type": "stream",
     "text": [
      "\n",
      "🔹 Top Revenue-Contributing Products:\n"
     ]
    },
    {
     "data": {
      "text/html": [
       "<style type=\"text/css\">\n",
       "</style>\n",
       "<table id=\"T_8e480\">\n",
       "  <thead>\n",
       "    <tr>\n",
       "      <th class=\"blank level0\" >&nbsp;</th>\n",
       "      <th id=\"T_8e480_level0_col0\" class=\"col_heading level0 col0\" >Revenue Contribution (%)</th>\n",
       "    </tr>\n",
       "    <tr>\n",
       "      <th class=\"index_name level0\" >Product</th>\n",
       "      <th class=\"blank col0\" >&nbsp;</th>\n",
       "    </tr>\n",
       "  </thead>\n",
       "  <tbody>\n",
       "    <tr>\n",
       "      <th id=\"T_8e480_level0_row0\" class=\"row_heading level0 row0\" >Apple MacBook Pro MB990LL/A 13.3 in. Notebook NEW</th>\n",
       "      <td id=\"T_8e480_row0_col0\" class=\"data row0 col0\" >54.91%</td>\n",
       "    </tr>\n",
       "    <tr>\n",
       "      <th id=\"T_8e480_level0_row1\" class=\"row_heading level0 row1\" >Apple MacBook M4 Pro Notebook NEW</th>\n",
       "      <td id=\"T_8e480_row1_col0\" class=\"data row1 col0\" >3.35%</td>\n",
       "    </tr>\n",
       "    <tr>\n",
       "      <th id=\"T_8e480_level0_row2\" class=\"row_heading level0 row2\" >Harry Potter and the Goblet of Fire - First Edition</th>\n",
       "      <td id=\"T_8e480_row2_col0\" class=\"data row2 col0\" >3.07%</td>\n",
       "    </tr>\n",
       "    <tr>\n",
       "      <th id=\"T_8e480_level0_row3\" class=\"row_heading level0 row3\" >MacBook Air 13-inch 2024 M3 / 16GB RAM / 512GB SSD / 10-Core GPU / Space Gray</th>\n",
       "      <td id=\"T_8e480_row3_col0\" class=\"data row3 col0\" >2.87%</td>\n",
       "    </tr>\n",
       "    <tr>\n",
       "      <th id=\"T_8e480_level0_row4\" class=\"row_heading level0 row4\" >2024 Apple MacBook Air 13-inch M3 Chip 16GB RAM 256GB SSD Midnight MC8K4LL/A</th>\n",
       "      <td id=\"T_8e480_row4_col0\" class=\"data row4 col0\" >2.39%</td>\n",
       "    </tr>\n",
       "    <tr>\n",
       "      <th id=\"T_8e480_level0_row5\" class=\"row_heading level0 row5\" >Apple MacBook Pro MB990LL/A 13.3 in2131313. Notebook NEW</th>\n",
       "      <td id=\"T_8e480_row5_col0\" class=\"data row5 col0\" >1.80%</td>\n",
       "    </tr>\n",
       "    <tr>\n",
       "      <th id=\"T_8e480_level0_row6\" class=\"row_heading level0 row6\" >Apple MacBook Pro 13.3</th>\n",
       "      <td id=\"T_8e480_row6_col0\" class=\"data row6 col0\" >1.67%</td>\n",
       "    </tr>\n",
       "    <tr>\n",
       "      <th id=\"T_8e480_level0_row7\" class=\"row_heading level0 row7\" >Apple MacBook Pro MB990LL/A 15.3 in. Notebook NEW</th>\n",
       "      <td id=\"T_8e480_row7_col0\" class=\"data row7 col0\" >1.67%</td>\n",
       "    </tr>\n",
       "    <tr>\n",
       "      <th id=\"T_8e480_level0_row8\" class=\"row_heading level0 row8\" >NEW Top</th>\n",
       "      <td id=\"T_8e480_row8_col0\" class=\"data row8 col0\" >1.39%</td>\n",
       "    </tr>\n",
       "    <tr>\n",
       "      <th id=\"T_8e480_level0_row9\" class=\"row_heading level0 row9\" >Jordan Apple MacBook Pro MB990LL/A 13.3 in. Notebook NEW</th>\n",
       "      <td id=\"T_8e480_row9_col0\" class=\"data row9 col0\" >1.39%</td>\n",
       "    </tr>\n",
       "  </tbody>\n",
       "</table>\n"
      ],
      "text/plain": [
       "<pandas.io.formats.style.Styler at 0x27b0a8c5670>"
      ]
     },
     "metadata": {},
     "output_type": "display_data"
    }
   ],
   "source": [
    "# Calculate revenue percentage per product\n",
    "ebay_df[\"Revenue Share\"] = ebay_df[\"Price\"] / ebay_df[\"Price\"].sum() * 100\n",
    "\n",
    "# Top 10 products by revenue contribution\n",
    "top_revenue_products = (\n",
    "    ebay_df.groupby(\"Title\")[\"Revenue Share\"]\n",
    "    .sum()\n",
    "    .sort_values(ascending=False)\n",
    "    .head(10)\n",
    "    .to_frame()\n",
    ")\n",
    "\n",
    "top_revenue_products.columns = [\"Revenue Contribution (%)\"]\n",
    "top_revenue_products.index.name = \"Product\"\n",
    "\n",
    "# Display in a clean format\n",
    "print(\"\\n🔹 Top Revenue-Contributing Products:\")\n",
    "display(top_revenue_products.style.format({\"Revenue Contribution (%)\": \"{:.2f}%\"}))"
   ]
  },
  {
   "cell_type": "code",
   "execution_count": null,
   "id": "07f09f1d",
   "metadata": {},
   "outputs": [],
   "source": []
  }
 ],
 "metadata": {
  "kernelspec": {
   "display_name": "Python 3 (ipykernel)",
   "language": "python",
   "name": "python3"
  },
  "language_info": {
   "codemirror_mode": {
    "name": "ipython",
    "version": 3
   },
   "file_extension": ".py",
   "mimetype": "text/x-python",
   "name": "python",
   "nbconvert_exporter": "python",
   "pygments_lexer": "ipython3",
   "version": "3.9.13"
  },
  "varInspector": {
   "cols": {
    "lenName": 16,
    "lenType": 16,
    "lenVar": 40
   },
   "kernels_config": {
    "python": {
     "delete_cmd_postfix": "",
     "delete_cmd_prefix": "del ",
     "library": "var_list.py",
     "varRefreshCmd": "print(var_dic_list())"
    },
    "r": {
     "delete_cmd_postfix": ") ",
     "delete_cmd_prefix": "rm(",
     "library": "var_list.r",
     "varRefreshCmd": "cat(var_dic_list()) "
    }
   },
   "types_to_exclude": [
    "module",
    "function",
    "builtin_function_or_method",
    "instance",
    "_Feature"
   ],
   "window_display": false
  }
 },
 "nbformat": 4,
 "nbformat_minor": 5
}
