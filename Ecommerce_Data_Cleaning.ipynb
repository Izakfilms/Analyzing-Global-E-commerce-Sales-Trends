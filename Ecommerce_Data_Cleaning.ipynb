{
 "cells": [
  {
   "cell_type": "code",
   "execution_count": 1,
   "id": "a564ada8",
   "metadata": {},
   "outputs": [],
   "source": [
    "import pandas as pd\n",
    "\n",
    "# Load the dataset\n",
    "df = pd.read_csv(\"ebay_2000_items.csv\")"
   ]
  },
  {
   "cell_type": "code",
   "execution_count": 3,
   "id": "f713454c",
   "metadata": {},
   "outputs": [],
   "source": [
    "# Step 1: Handle Missing Values\n",
    "# Replace missing Item Location with 'Unknown'\n",
    "df[\"Item Location\"].fillna(\"Unknown\", inplace=True)\n",
    "# Replace missing Shipping Cost with 0.0\n",
    "df[\"Shipping Cost\"].fillna(0.0, inplace=True)"
   ]
  },
  {
   "cell_type": "code",
   "execution_count": 4,
   "id": "88583389",
   "metadata": {},
   "outputs": [],
   "source": [
    "# Step 2: Remove Duplicates\n",
    "# Remove duplicate entries based on 'Item ID'\n",
    "df.drop_duplicates(subset=\"Item ID\", keep=\"first\", inplace=True)"
   ]
  },
  {
   "cell_type": "code",
   "execution_count": 5,
   "id": "f528b289",
   "metadata": {},
   "outputs": [],
   "source": [
    "# Step 3: Standardize Formats\n",
    "# Convert 'Price' from string (e.g., '500.00 USD') to float\n",
    "df[\"Price\"] = df[\"Price\"].str.replace(\" USD\", \"\").astype(float)"
   ]
  },
  {
   "cell_type": "code",
   "execution_count": 7,
   "id": "685c68fd",
   "metadata": {},
   "outputs": [],
   "source": [
    "# Convert 'Item Creation Date' to datetime format\n",
    "df[\"Item Creation Date\"] = pd.to_datetime(df[\"Item Creation Date\"])"
   ]
  },
  {
   "cell_type": "code",
   "execution_count": 8,
   "id": "89488749",
   "metadata": {},
   "outputs": [],
   "source": [
    "# Save the cleaned dataset\n",
    "df.to_csv(\"ebay_cleaned.csv\", index=False)"
   ]
  },
  {
   "cell_type": "code",
   "execution_count": 9,
   "id": "6446ac1c",
   "metadata": {
    "scrolled": true
   },
   "outputs": [
    {
     "name": "stdout",
     "output_type": "stream",
     "text": [
      "<class 'pandas.core.frame.DataFrame'>\n",
      "Int64Index: 82 entries, 0 to 81\n",
      "Data columns (total 15 columns):\n",
      " #   Column              Non-Null Count  Dtype              \n",
      "---  ------              --------------  -----              \n",
      " 0   Item ID             82 non-null     object             \n",
      " 1   Title               82 non-null     object             \n",
      " 2   Category IDs        82 non-null     int64              \n",
      " 3   Categories          82 non-null     object             \n",
      " 4   Price               82 non-null     float64            \n",
      " 5   Item Link           82 non-null     object             \n",
      " 6   Condition           82 non-null     object             \n",
      " 7   Seller              82 non-null     object             \n",
      " 8   Seller Rating       82 non-null     int64              \n",
      " 9   Item Location       82 non-null     object             \n",
      " 10  Shipping Cost       82 non-null     float64            \n",
      " 11  Buying Options      82 non-null     object             \n",
      " 12  Item Creation Date  82 non-null     datetime64[ns, UTC]\n",
      " 13  Adult Only          82 non-null     bool               \n",
      " 14  Available Coupons   82 non-null     bool               \n",
      "dtypes: bool(2), datetime64[ns, UTC](1), float64(2), int64(2), object(8)\n",
      "memory usage: 9.1+ KB\n",
      "                        Item ID  \\\n",
      "0             v1|110577732801|0   \n",
      "1             v1|110577681056|0   \n",
      "2  v1|110577018152|410109996760   \n",
      "3             v1|110577322535|0   \n",
      "4             v1|110577018103|0   \n",
      "\n",
      "                                               Title  Category IDs  \\\n",
      "0  Apple MacBook Pro MB990LL/A 13.3 in. Notebook NEW        111422   \n",
      "1  Apple MacBook Pro MB990LL/A 13.3 in. Notebook NEW        111422   \n",
      "2  Old Variants Product Test Product Apple MacBoo...        111422   \n",
      "3  Harry Potter and the Goblet of Fire - First Ed...           177   \n",
      "4  Old Simple Product Test Product Apple MacBook ...        111422   \n",
      "\n",
      "                                          Categories   Price  \\\n",
      "0  Apple Laptops, Computers/Tablets & Networking,...  500.00   \n",
      "1  Apple Laptops, Computers/Tablets & Networking,...  500.00   \n",
      "2  Apple Laptops, Computers/Tablets & Networking,...    9.99   \n",
      "3  PC Laptops & Netbooks, Computers/Tablets & Net...  500.00   \n",
      "4  Apple Laptops, Computers/Tablets & Networking,...    6.66   \n",
      "\n",
      "                                           Item Link Condition  \\\n",
      "0  https://cgi.sandbox.ebay.com/itm/Apple-MacBook...       New   \n",
      "1  https://cgi.sandbox.ebay.com/itm/Apple-MacBook...       New   \n",
      "2  https://cgi.sandbox.ebay.com/itm/Old-Variants-...       New   \n",
      "3  https://cgi.sandbox.ebay.com/itm/Harry-Potter-...       New   \n",
      "4  https://cgi.sandbox.ebay.com/itm/Old-Simple-Pr...       New   \n",
      "\n",
      "           Seller  Seller Rating Item Location  Shipping Cost Buying Options  \\\n",
      "0  Unknown Seller            500         951**            0.0    FIXED_PRICE   \n",
      "1  Unknown Seller            500         951**            0.0    FIXED_PRICE   \n",
      "2  Unknown Seller           1000         951**            0.0    FIXED_PRICE   \n",
      "3  Unknown Seller            500         951**            0.0    FIXED_PRICE   \n",
      "4  Unknown Seller           1000         951**            0.0    FIXED_PRICE   \n",
      "\n",
      "         Item Creation Date  Adult Only  Available Coupons  \n",
      "0 2025-03-15 23:46:35+00:00       False              False  \n",
      "1 2025-03-15 16:30:53+00:00       False              False  \n",
      "2 2025-03-12 07:13:46+00:00       False              False  \n",
      "3 2025-03-13 10:05:41+00:00       False              False  \n",
      "4 2025-03-12 06:52:02+00:00       False              False  \n"
     ]
    }
   ],
   "source": [
    "# Display basic information about the cleaned data\n",
    "df.info()\n",
    "print(df.head())"
   ]
  },
  {
   "cell_type": "code",
   "execution_count": null,
   "id": "ca27dc67",
   "metadata": {},
   "outputs": [],
   "source": []
  }
 ],
 "metadata": {
  "kernelspec": {
   "display_name": "Python 3 (ipykernel)",
   "language": "python",
   "name": "python3"
  },
  "language_info": {
   "codemirror_mode": {
    "name": "ipython",
    "version": 3
   },
   "file_extension": ".py",
   "mimetype": "text/x-python",
   "name": "python",
   "nbconvert_exporter": "python",
   "pygments_lexer": "ipython3",
   "version": "3.9.13"
  },
  "varInspector": {
   "cols": {
    "lenName": 16,
    "lenType": 16,
    "lenVar": 40
   },
   "kernels_config": {
    "python": {
     "delete_cmd_postfix": "",
     "delete_cmd_prefix": "del ",
     "library": "var_list.py",
     "varRefreshCmd": "print(var_dic_list())"
    },
    "r": {
     "delete_cmd_postfix": ") ",
     "delete_cmd_prefix": "rm(",
     "library": "var_list.r",
     "varRefreshCmd": "cat(var_dic_list()) "
    }
   },
   "types_to_exclude": [
    "module",
    "function",
    "builtin_function_or_method",
    "instance",
    "_Feature"
   ],
   "window_display": false
  }
 },
 "nbformat": 4,
 "nbformat_minor": 5
}
