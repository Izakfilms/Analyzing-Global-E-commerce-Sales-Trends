{
 "cells": [
  {
   "cell_type": "markdown",
   "id": "a416389a",
   "metadata": {},
   "source": [
    "# 📌 Hypotheses & Testing Methods\n",
    "\n",
    "1️⃣ Does Seller Rating Affect Price?\n",
    "\n",
    "H0: Seller rating has no impact on price.\n",
    "\n",
    "H1: Higher-rated sellers price items differently.\n",
    "\n",
    "Test: Pearson Correlation & t-test (High-rated vs. Low-rated sellers).\n",
    "\n",
    "\n",
    "2️⃣ Does Product Condition (New vs. Used) Impact Price?\n",
    "\n",
    "H0: No significant price difference between New and Used items.\n",
    "\n",
    "H1: New items are priced higher than Used ones.\n",
    "\n",
    "Test: t-test (Compare prices of \"New\" vs. \"Used\" items).\n",
    "\n",
    "3️⃣ Does Category Affect Price?\n",
    "\n",
    "H0: All categories have similar average prices.\n",
    "\n",
    "H1: At least one category has a significantly different price.\n",
    "\n",
    "Test: ANOVA test (Compare price variations across multiple categories).\n",
    "\n",
    "4️⃣ Does Seasonality Affect Listings?\n",
    "\n",
    "H0: Items are evenly listed across seasons.\n",
    "\n",
    "H1: More items are listed in specific seasons.\n",
    "\n",
    "Test: Chi-square test (Check if listings are equally distributed across seasons)."
   ]
  },
  {
   "cell_type": "code",
   "execution_count": 1,
   "id": "d1be97de",
   "metadata": {},
   "outputs": [],
   "source": [
    "import pandas as pd\n",
    "import numpy as np\n",
    "import matplotlib.pyplot as plt\n",
    "import seaborn as sns\n",
    "from scipy.stats import ttest_ind, f_oneway, pearsonr, chi2_contingency"
   ]
  },
  {
   "cell_type": "code",
   "execution_count": 2,
   "id": "1198df46",
   "metadata": {},
   "outputs": [],
   "source": [
    "# Load the dataset\n",
    "file_path = \"ebay_cleaned.csv\"\n",
    "df = pd.read_csv(file_path)"
   ]
  },
  {
   "cell_type": "code",
   "execution_count": 3,
   "id": "0254b0cc",
   "metadata": {},
   "outputs": [],
   "source": [
    "# Convert date column to datetime format\n",
    "df[\"Item Creation Date\"] = pd.to_datetime(df[\"Item Creation Date\"], errors=\"coerce\")"
   ]
  },
  {
   "cell_type": "code",
   "execution_count": 4,
   "id": "3c901254",
   "metadata": {},
   "outputs": [],
   "source": [
    "# Encode 'Condition' column (New = 1, Used = 0) for analysis\n",
    "if \"Condition\" in df.columns:\n",
    "    df[\"Condition\"] = df[\"Condition\"].apply(lambda x: 1 if x.lower() == \"new\" else 0)"
   ]
  },
  {
   "cell_type": "code",
   "execution_count": 5,
   "id": "46a45f36",
   "metadata": {},
   "outputs": [],
   "source": [
    "# Extract 'Season' from 'Item Creation Date'\n",
    "df[\"Month\"] = df[\"Item Creation Date\"].dt.month\n",
    "season_map = {\n",
    "    12: \"Winter\", 1: \"Winter\", 2: \"Winter\",\n",
    "    3: \"Spring\", 4: \"Spring\", 5: \"Spring\",\n",
    "    6: \"Summer\", 7: \"Summer\", 8: \"Summer\",\n",
    "    9: \"Fall\", 10: \"Fall\", 11: \"Fall\"\n",
    "}\n",
    "df[\"Season\"] = df[\"Month\"].map(season_map)"
   ]
  },
  {
   "cell_type": "code",
   "execution_count": 6,
   "id": "a9ed94b9",
   "metadata": {},
   "outputs": [
    {
     "name": "stdout",
     "output_type": "stream",
     "text": [
      "<class 'pandas.core.frame.DataFrame'>\n",
      "RangeIndex: 82 entries, 0 to 81\n",
      "Data columns (total 17 columns):\n",
      " #   Column              Non-Null Count  Dtype              \n",
      "---  ------              --------------  -----              \n",
      " 0   Item ID             82 non-null     object             \n",
      " 1   Title               82 non-null     object             \n",
      " 2   Category IDs        82 non-null     int64              \n",
      " 3   Categories          82 non-null     object             \n",
      " 4   Price               82 non-null     float64            \n",
      " 5   Item Link           82 non-null     object             \n",
      " 6   Condition           82 non-null     int64              \n",
      " 7   Seller              82 non-null     object             \n",
      " 8   Seller Rating       82 non-null     int64              \n",
      " 9   Item Location       82 non-null     object             \n",
      " 10  Shipping Cost       82 non-null     float64            \n",
      " 11  Buying Options      82 non-null     object             \n",
      " 12  Item Creation Date  82 non-null     datetime64[ns, UTC]\n",
      " 13  Adult Only          82 non-null     bool               \n",
      " 14  Available Coupons   82 non-null     bool               \n",
      " 15  Month               82 non-null     int64              \n",
      " 16  Season              82 non-null     object             \n",
      "dtypes: bool(2), datetime64[ns, UTC](1), float64(2), int64(4), object(8)\n",
      "memory usage: 9.9+ KB\n"
     ]
    },
    {
     "data": {
      "text/plain": [
       "(None,\n",
       "                         Item ID  \\\n",
       " 0             v1|110577732801|0   \n",
       " 1             v1|110577681056|0   \n",
       " 2  v1|110577018152|410109996760   \n",
       " 3             v1|110577322535|0   \n",
       " 4             v1|110577018103|0   \n",
       " \n",
       "                                                Title  Category IDs  \\\n",
       " 0  Apple MacBook Pro MB990LL/A 13.3 in. Notebook NEW        111422   \n",
       " 1  Apple MacBook Pro MB990LL/A 13.3 in. Notebook NEW        111422   \n",
       " 2  Old Variants Product Test Product Apple MacBoo...        111422   \n",
       " 3  Harry Potter and the Goblet of Fire - First Ed...           177   \n",
       " 4  Old Simple Product Test Product Apple MacBook ...        111422   \n",
       " \n",
       "                                           Categories   Price  \\\n",
       " 0  Apple Laptops, Computers/Tablets & Networking,...  500.00   \n",
       " 1  Apple Laptops, Computers/Tablets & Networking,...  500.00   \n",
       " 2  Apple Laptops, Computers/Tablets & Networking,...    9.99   \n",
       " 3  PC Laptops & Netbooks, Computers/Tablets & Net...  500.00   \n",
       " 4  Apple Laptops, Computers/Tablets & Networking,...    6.66   \n",
       " \n",
       "                                            Item Link  Condition  \\\n",
       " 0  https://cgi.sandbox.ebay.com/itm/Apple-MacBook...          1   \n",
       " 1  https://cgi.sandbox.ebay.com/itm/Apple-MacBook...          1   \n",
       " 2  https://cgi.sandbox.ebay.com/itm/Old-Variants-...          1   \n",
       " 3  https://cgi.sandbox.ebay.com/itm/Harry-Potter-...          1   \n",
       " 4  https://cgi.sandbox.ebay.com/itm/Old-Simple-Pr...          1   \n",
       " \n",
       "            Seller  Seller Rating Item Location  Shipping Cost Buying Options  \\\n",
       " 0  Unknown Seller            500         951**            0.0    FIXED_PRICE   \n",
       " 1  Unknown Seller            500         951**            0.0    FIXED_PRICE   \n",
       " 2  Unknown Seller           1000         951**            0.0    FIXED_PRICE   \n",
       " 3  Unknown Seller            500         951**            0.0    FIXED_PRICE   \n",
       " 4  Unknown Seller           1000         951**            0.0    FIXED_PRICE   \n",
       " \n",
       "          Item Creation Date  Adult Only  Available Coupons  Month  Season  \n",
       " 0 2025-03-15 23:46:35+00:00       False              False      3  Spring  \n",
       " 1 2025-03-15 16:30:53+00:00       False              False      3  Spring  \n",
       " 2 2025-03-12 07:13:46+00:00       False              False      3  Spring  \n",
       " 3 2025-03-13 10:05:41+00:00       False              False      3  Spring  \n",
       " 4 2025-03-12 06:52:02+00:00       False              False      3  Spring  )"
      ]
     },
     "execution_count": 6,
     "metadata": {},
     "output_type": "execute_result"
    }
   ],
   "source": [
    "# Display basic dataset info\n",
    "df.info(), df.head()"
   ]
  },
  {
   "cell_type": "code",
   "execution_count": 7,
   "id": "f430b329",
   "metadata": {},
   "outputs": [],
   "source": [
    "# 1️⃣ T-test: Does Seller Rating Affect Price?\n",
    "high_rated_sellers = df[df[\"Seller Rating\"] >= 500][\"Price\"]\n",
    "low_rated_sellers = df[df[\"Seller Rating\"] < 500][\"Price\"]\n",
    "t_stat_seller, p_value_seller = ttest_ind(high_rated_sellers, low_rated_sellers, equal_var=False)"
   ]
  },
  {
   "cell_type": "code",
   "execution_count": 8,
   "id": "2958922b",
   "metadata": {},
   "outputs": [],
   "source": [
    "# 2️⃣ T-test: Does Condition (New vs. Used) Affect Price?\n",
    "new_items = df[df[\"Condition\"] == 1][\"Price\"]\n",
    "used_items = df[df[\"Condition\"] == 0][\"Price\"]\n",
    "t_stat_condition, p_value_condition = ttest_ind(new_items, used_items, equal_var=False)"
   ]
  },
  {
   "cell_type": "code",
   "execution_count": 9,
   "id": "f941845c",
   "metadata": {},
   "outputs": [],
   "source": [
    "# 3️⃣ ANOVA Test: Does Category Affect Price?\n",
    "category_groups = [group[\"Price\"] for _, group in df.groupby(\"Categories\")]\n",
    "anova_stat_category, p_value_category = f_oneway(*category_groups)"
   ]
  },
  {
   "cell_type": "code",
   "execution_count": 10,
   "id": "d01cbce3",
   "metadata": {},
   "outputs": [],
   "source": [
    "# 4️⃣ Chi-Square Test: Does Seasonality Affect Listings?\n",
    "season_counts = df[\"Season\"].value_counts()\n",
    "expected_counts = np.full(len(season_counts), season_counts.mean())\n",
    "chi2_stat_season, p_value_season = chi2_contingency([season_counts, expected_counts])[:2]"
   ]
  },
  {
   "cell_type": "code",
   "execution_count": 11,
   "id": "4723a469",
   "metadata": {},
   "outputs": [
    {
     "name": "stdout",
     "output_type": "stream",
     "text": [
      "\n",
      "🔹 Seller Rating vs. Price:\n",
      "   T-statistic: -0.2970\n",
      "   P-value: 0.7856\n",
      "\n",
      "🔹 Condition (New vs. Used) vs. Price:\n",
      "   T-statistic: -1.0784\n",
      "   P-value: 0.3923\n",
      "\n",
      "🔹 Category vs. Price:\n",
      "   ANOVA Statistic: 2.1516\n",
      "   P-value: 0.1005\n",
      "\n",
      "🔹 Seasonality of Listings:\n",
      "   Chi-Square Statistic: 1.2066\n",
      "   P-value: 0.2720\n"
     ]
    }
   ],
   "source": [
    "# 📌 Step 4: Display Results\n",
    "results = {\n",
    "    \"Seller Rating vs. Price\": {\"T-statistic\": t_stat_seller, \"P-value\": p_value_seller},\n",
    "    \"Condition (New vs. Used) vs. Price\": {\"T-statistic\": t_stat_condition, \"P-value\": p_value_condition},\n",
    "    \"Category vs. Price\": {\"ANOVA Statistic\": anova_stat_category, \"P-value\": p_value_category},\n",
    "    \"Seasonality of Listings\": {\"Chi-Square Statistic\": chi2_stat_season, \"P-value\": p_value_season}\n",
    "}\n",
    "\n",
    "# Print the results\n",
    "for test, result in results.items():\n",
    "    print(f\"\\n🔹 {test}:\")\n",
    "    for key, value in result.items():\n",
    "        print(f\"   {key}: {value:.4f}\")"
   ]
  },
  {
   "cell_type": "code",
   "execution_count": 14,
   "id": "18559147",
   "metadata": {},
   "outputs": [
    {
     "name": "stdout",
     "output_type": "stream",
     "text": [
      "\n",
      "📊 Final Conclusions:\n",
      "✅ Seller Rating does NOT significantly impact price.\n",
      "✅ Condition (New vs. Used) does NOT significantly impact price.\n",
      "✅ Product category does NOT significantly impact price.\n",
      "✅ Listings are evenly distributed across seasons.\n"
     ]
    }
   ],
   "source": [
    "# 📌 Step 5: Interpretation of Results\n",
    "print(\"\\n📊 Final Conclusions:\")\n",
    "if p_value_seller > 0.05:\n",
    "    print(\"✅ Seller Rating does NOT significantly impact price.\")\n",
    "else:\n",
    "    print(\"❌ Seller Rating significantly impacts price.\")\n",
    "\n",
    "if p_value_condition > 0.05:\n",
    "    print(\"✅ Condition (New vs. Used) does NOT significantly impact price.\")\n",
    "else:\n",
    "    print(\"❌ Condition significantly impacts price.\")\n",
    "\n",
    "if p_value_category > 0.05:\n",
    "    print(\"✅ Product category does NOT significantly impact price.\")\n",
    "else:\n",
    "    print(\"❌ Product category significantly impacts price.\")\n",
    "\n",
    "if p_value_season > 0.05:\n",
    "    print(\"✅ Listings are evenly distributed across seasons.\")\n",
    "else:\n",
    "    print(\"❌ Seasonality significantly impacts listings.\")"
   ]
  },
  {
   "cell_type": "code",
   "execution_count": null,
   "id": "278b1e2d",
   "metadata": {},
   "outputs": [],
   "source": []
  }
 ],
 "metadata": {
  "kernelspec": {
   "display_name": "Python 3 (ipykernel)",
   "language": "python",
   "name": "python3"
  },
  "language_info": {
   "codemirror_mode": {
    "name": "ipython",
    "version": 3
   },
   "file_extension": ".py",
   "mimetype": "text/x-python",
   "name": "python",
   "nbconvert_exporter": "python",
   "pygments_lexer": "ipython3",
   "version": "3.9.13"
  },
  "varInspector": {
   "cols": {
    "lenName": 16,
    "lenType": 16,
    "lenVar": 40
   },
   "kernels_config": {
    "python": {
     "delete_cmd_postfix": "",
     "delete_cmd_prefix": "del ",
     "library": "var_list.py",
     "varRefreshCmd": "print(var_dic_list())"
    },
    "r": {
     "delete_cmd_postfix": ") ",
     "delete_cmd_prefix": "rm(",
     "library": "var_list.r",
     "varRefreshCmd": "cat(var_dic_list()) "
    }
   },
   "types_to_exclude": [
    "module",
    "function",
    "builtin_function_or_method",
    "instance",
    "_Feature"
   ],
   "window_display": false
  }
 },
 "nbformat": 4,
 "nbformat_minor": 5
}
